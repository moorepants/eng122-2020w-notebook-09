{
 "cells": [
  {
   "cell_type": "markdown",
   "metadata": {},
   "source": [
    "# Sinusoidal Forcing Of A Spring-Mass-Damper System\n",
    "\n",
    "\n",
    "This notebook introduces external forcing of a vibratory system, where the\n",
    "external force is modeled as a sinusoidal input to the bottom of a bus driver's\n",
    "seat.\n",
    "\n",
    "After the completion of this assignment students will be able to:\n",
    "\n",
    "- excite a system with a sinusoidal input\n",
    "- understand the difference in transient and steady state solutions\n",
    "- relate the frequency response to the time series\n",
    "- create a frequency response plot\n",
    "- define resonance and determine the parameters that cause resonance\n",
    "\n",
    "# Introduction\n",
    "\n",
    "We have only been dealing with the free response of a system given some initial coordinate (position, orientation) or speed value (velocity, angular velocity). The behavior observed is the \"natural\" behavior of the system, i.e. the motion that it would exhibit if no external loads act on the system. For the simple single degree of freedom systems we have dealt with so far it is possible to apply a time varying external force or torque to the system to influence the time trajectory of the single coordinate. For example let's investigate the simplest system in vibrations, a particle that can slide laterally but is fixed to a wall via a linear spring and linear damper and has a sinusoidal force applied to it as it moves:\n",
    "\n",
    "![](Mass-Spring-Damper.svg)"
   ]
  },
  {
   "cell_type": "code",
   "execution_count": null,
   "metadata": {},
   "outputs": [],
   "source": [
    "import numpy as np\n",
    "import matplotlib.pyplot as plt\n",
    "%matplotlib widget"
   ]
  },
  {
   "cell_type": "code",
   "execution_count": null,
   "metadata": {},
   "outputs": [],
   "source": [
    "from resonance.linear_systems import MassSpringDamperSystem"
   ]
  },
  {
   "cell_type": "code",
   "execution_count": null,
   "metadata": {},
   "outputs": [],
   "source": [
    "sys = MassSpringDamperSystem()"
   ]
  },
  {
   "cell_type": "markdown",
   "metadata": {},
   "source": [
    "The mass, $m$, stiffness of the spring, $k$, and the damping coefficient of the dashpot, $c$, can be set on this model."
   ]
  },
  {
   "cell_type": "code",
   "execution_count": null,
   "metadata": {},
   "outputs": [],
   "source": [
    "sys.constants"
   ]
  },
  {
   "cell_type": "markdown",
   "metadata": {
    "solution2": "hidden",
    "solution2_first": true
   },
   "source": [
    "# Undamped Forced Motion\n",
    "\n",
    "Each system has a function called `sinusoidal_forcing_response()` that works in a similar fashion to `free_response()`. Two new pieces of information are required: the forcing amplitude, $F_o$, and the forcing frequency, $\\omega$ as the first two arguments.\n",
    "\n",
    "## Exercise\n",
    "\n",
    "Set $F_o=1.0$ N and $\\omega=2\\pi$ rad/s and generate a trajectory for 20 seconds using `sinusoidal_forcing_response()`. Plot the resulting trajectories. Use `sinusoidal_forcing_response?` to read the documentation for the function."
   ]
  },
  {
   "cell_type": "code",
   "execution_count": null,
   "metadata": {
    "jupyter": {
     "source_hidden": true
    },
    "solution2": "hidden"
   },
   "outputs": [],
   "source": [
    "Fo = 1.0  # N\n",
    "omega = 2*np.pi  # rad/s\n",
    "traj = sys.sinusoidal_forcing_response(Fo, omega, 20.0)\n",
    "traj.plot(subplots=True)"
   ]
  },
  {
   "cell_type": "code",
   "execution_count": null,
   "metadata": {},
   "outputs": [],
   "source": [
    "# write your answer here"
   ]
  },
  {
   "cell_type": "markdown",
   "metadata": {},
   "source": [
    "Notice that there is no longer a simple sinusoidal oscillation. The trajactory seems that it may still be *periodic* but the motion is now some combination of the natural motion and the motion due to the forcing term.\n",
    "\n",
    "## Exercise\n",
    "\n",
    "Run the following cell that lets you adjust the forcing amplitude and frequency interactively. Try out a variety combinations of the two values and note what you observe with regards to the position trajectory."
   ]
  },
  {
   "cell_type": "code",
   "execution_count": null,
   "metadata": {},
   "outputs": [],
   "source": [
    "from ipywidgets import interact\n",
    "\n",
    "fig, ax = plt.subplots(1, 1)\n",
    "traj = sys.sinusoidal_forcing_response(0.0, 0.0, 20.0)\n",
    "lines = ax.plot(traj.index, traj.position)\n",
    "ax.set_xlabel('Time [s]')\n",
    "ax.set_ylabel('Position [m]')\n",
    "ax.set_ylim((-0.5, 0.5))\n",
    "\n",
    "def adjust_forcing(amplitude=0.0, frequency=0.0):\n",
    "    traj = sys.sinusoidal_forcing_response(amplitude, frequency, 20.0)\n",
    "    lines[0].set_data(traj.index, traj.position)\n",
    "    \n",
    "interact(adjust_forcing, amplitude=(0.0, 10.0, 0.2), frequency=(0.0, 10 * np.pi, 0.3));"
   ]
  },
  {
   "cell_type": "markdown",
   "metadata": {},
   "source": [
    "# Forcing at and around the natural frequency\n",
    "\n",
    "You may have notice some particularly interesting motion in a particular regime of frequencies. It turns out that if you force the system at a frequency near the natural frequency of the system. Simulate the free response of the system and find the natural frequency in radians per second. Investigate the forced trajectory with a 1 Newton forcing amplitude and a forcing frequency slightly less than, slightly more than, and exactly at the natural frequency."
   ]
  },
  {
   "cell_type": "code",
   "execution_count": null,
   "metadata": {},
   "outputs": [],
   "source": [
    "sys.coordinates['position'] = 0.1  # m\n",
    "traj = sys.free_response(5.0)\n",
    "traj.plot(subplots=True);"
   ]
  },
  {
   "cell_type": "markdown",
   "metadata": {
    "solution2": "hidden",
    "solution2_first": true
   },
   "source": [
    "## Exercise\n",
    "\n",
    "Estimate the natural frequency using any method you'd like."
   ]
  },
  {
   "cell_type": "code",
   "execution_count": null,
   "metadata": {
    "jupyter": {
     "source_hidden": true
    },
    "solution2": "hidden"
   },
   "outputs": [],
   "source": [
    "from resonance.functions import estimate_period\n",
    "2 * np.pi / estimate_period(traj.index, traj.position)"
   ]
  },
  {
   "cell_type": "code",
   "execution_count": null,
   "metadata": {
    "jupyter": {
     "source_hidden": true
    }
   },
   "outputs": [],
   "source": [
    "m, c, k = sys.canonical_coefficients()\n",
    "np.sqrt(k/m)"
   ]
  },
  {
   "cell_type": "code",
   "execution_count": null,
   "metadata": {},
   "outputs": [],
   "source": [
    "# write your answer here"
   ]
  },
  {
   "cell_type": "markdown",
   "metadata": {
    "solution2": "hidden",
    "solution2_first": true
   },
   "source": [
    "## Just lower than the natural frequency\n",
    "\n",
    "Set the initial conditions to zero."
   ]
  },
  {
   "cell_type": "code",
   "execution_count": null,
   "metadata": {
    "solution2": "hidden"
   },
   "outputs": [],
   "source": [
    "sys.coordinates['position'] = 0.0  # m\n",
    "sys.states"
   ]
  },
  {
   "cell_type": "code",
   "execution_count": null,
   "metadata": {
    "solution2": "hidden"
   },
   "outputs": [],
   "source": [
    "omega = 9.8  # rad/s\n",
    "traj = sys.sinusoidal_forcing_response(1.0, omega, 40.0)\n",
    "traj.plot(subplots=True);"
   ]
  },
  {
   "cell_type": "markdown",
   "metadata": {
    "solution2": "hidden",
    "solution2_first": true
   },
   "source": [
    "## Just higher than the natural frequency"
   ]
  },
  {
   "cell_type": "code",
   "execution_count": null,
   "metadata": {
    "solution2": "hidden"
   },
   "outputs": [],
   "source": [
    "omega = 10.2  # rad/s\n",
    "traj = sys.sinusoidal_forcing_response(1.0, omega, 40.0)\n",
    "traj.plot(subplots=True);"
   ]
  },
  {
   "cell_type": "markdown",
   "metadata": {
    "solution2": "hidden",
    "solution2_first": true
   },
   "source": [
    "This double frequency effect is called *beating*. Beating signals seem to have two primary frequencies, one that is much slower than the other. There is a rapid frequency that is close to the forced frequency and then another that can be estimated with:\n",
    "\n",
    "$$\\omega_{beat} = |\\omega_n - \\omega|$$\n",
    "\n",
    "### Exercise\n",
    "\n",
    "Calculate the beat frequency and beat period from the above equation and see if it matches the trajectory in the above plot."
   ]
  },
  {
   "cell_type": "code",
   "execution_count": null,
   "metadata": {
    "jupyter": {
     "source_hidden": true
    },
    "solution2": "hidden"
   },
   "outputs": [],
   "source": [
    "w_beat = np.abs(9.9959766250584341 - 10.2)\n",
    "print('Beat frequency:', w_beat, 'rad/s')\n",
    "\n",
    "print('Beat period:', 2 * np.pi / w_beat, 's')"
   ]
  },
  {
   "cell_type": "code",
   "execution_count": null,
   "metadata": {},
   "outputs": [],
   "source": [
    "# write you answer here"
   ]
  },
  {
   "cell_type": "markdown",
   "metadata": {
    "solution2": "hidden",
    "solution2_first": true
   },
   "source": [
    "## Exactly at the natural frequency\n",
    "\n",
    "### Exercise\n",
    "\n",
    "Simulate the system with $F_o=1.0$ and $\\omega=\\omega_n$ for 100 seconds.\n",
    "\n",
    "What do you observe in this case?"
   ]
  },
  {
   "cell_type": "code",
   "execution_count": null,
   "metadata": {
    "jupyter": {
     "source_hidden": true
    },
    "solution2": "hidden"
   },
   "outputs": [],
   "source": [
    "traj = sys.sinusoidal_forcing_response(1.0, 9.9959766250584341, 100.0)\n",
    "traj.plot(subplots=True);"
   ]
  },
  {
   "cell_type": "code",
   "execution_count": null,
   "metadata": {},
   "outputs": [],
   "source": [
    "# write your answer here"
   ]
  },
  {
   "cell_type": "markdown",
   "metadata": {
    "solution2": "hidden",
    "solution2_first": true
   },
   "source": [
    "# Forcing with Damping\n",
    "\n",
    "There is also interesting vibrational behavior when both damping and forcing are introduced to the system.\n",
    "\n",
    "### Exercise\n",
    "\n",
    "Set $m=100$ kg, $c=100$ kg/s, and $k=910$ N/m and simulate the system's free response for 20 seconds to remind yourself of the behavior. Use an initial position of 0.001 m and initial velocity of 0.02 m/s. What type of vibration is this? (over-, under-, critically-damped, etc). Note that the natural frequency is:"
   ]
  },
  {
   "cell_type": "code",
   "execution_count": null,
   "metadata": {},
   "outputs": [],
   "source": [
    "print('Natural frequency:', np.sqrt(910/100), 'rad/s')"
   ]
  },
  {
   "cell_type": "code",
   "execution_count": null,
   "metadata": {
    "solution2": "hidden"
   },
   "outputs": [],
   "source": [
    "sys.constants['mass'] = 100  # kg\n",
    "sys.constants['damping'] = 100  # kg/s\n",
    "sys.constants['stiffness'] = 910  # N/m\n",
    "\n",
    "sys.coordinates['position'] = 0.001  # m\n",
    "sys.speeds['velocity'] = 0.02  # m/s\n",
    "\n",
    "traj = sys.free_response(20)\n",
    "traj.plot(subplots=True)\n",
    "\n",
    "print(\"This a underdamped vibration.\")"
   ]
  },
  {
   "cell_type": "code",
   "execution_count": null,
   "metadata": {
    "solution2": "hidden"
   },
   "outputs": [],
   "source": [
    "# write your answer here"
   ]
  },
  {
   "cell_type": "markdown",
   "metadata": {
    "solution2": "hidden",
    "solution2_first": true
   },
   "source": [
    "# Forcing a damped system below it's natural frequency\n",
    "\n",
    "### Exercise\n",
    "\n",
    "Subject the system to $F(t) = 10 \\cos(1t)$ with the same initial conditions as the previous case. This frequency is well below the natural frequency. Simulate for 20, and 50 seconds. What do you observe about the trajectories?"
   ]
  },
  {
   "cell_type": "code",
   "execution_count": null,
   "metadata": {
    "jupyter": {
     "source_hidden": true
    },
    "solution2": "hidden"
   },
   "outputs": [],
   "source": [
    "traj = sys.sinusoidal_forcing_response(10.0, 1.0, 20)\n",
    "traj.plot(subplots=True)\n",
    "\n",
    "traj = sys.sinusoidal_forcing_response(10.0, 1.0, 50)\n",
    "traj.plot(subplots=True)"
   ]
  },
  {
   "cell_type": "code",
   "execution_count": null,
   "metadata": {},
   "outputs": [],
   "source": [
    "# write your answer here"
   ]
  },
  {
   "cell_type": "markdown",
   "metadata": {
    "solution2": "hidden",
    "solution2_first": true
   },
   "source": [
    "# Just below the natural frequency with damping\n",
    "\n",
    "Subject the system to $F(t) = 10 \\cos(3t)$ with the same initial conditions as the previous case. This frequency is well below the natural frequency. Simulate for 20 seconds."
   ]
  },
  {
   "cell_type": "code",
   "execution_count": null,
   "metadata": {
    "solution2": "hidden"
   },
   "outputs": [],
   "source": [
    "traj = sys.sinusoidal_forcing_response(10.0, 3.0, 20)\n",
    "traj.plot(subplots=True);"
   ]
  },
  {
   "cell_type": "markdown",
   "metadata": {},
   "source": [
    "# Higher than natural frequency with damping\n",
    "\n",
    "Subject the system to $F(t) = 10 \\cos(10t)$ with the same initial conditions as the previous case. This frequency is much higher than the natural frequency. Simulate for 20 seconds."
   ]
  },
  {
   "cell_type": "code",
   "execution_count": null,
   "metadata": {},
   "outputs": [],
   "source": [
    "traj = sys.sinusoidal_forcing_response(10.0, 10.0, 20)\n",
    "traj.plot(subplots=True);"
   ]
  },
  {
   "cell_type": "markdown",
   "metadata": {},
   "source": [
    "### Exercise\n",
    "\n",
    "What do you observe about how the vibration behavior changes with respect to the forcing amplitude and frequency? How does the amplitude and frequency of the position trajectory change with respect to the forcing function? Use the interactive plot below to adjust the forcing amplitude and frequency and observe the change in position to validate your answer."
   ]
  },
  {
   "cell_type": "code",
   "execution_count": null,
   "metadata": {},
   "outputs": [],
   "source": [
    "from ipywidgets import interact\n",
    "\n",
    "fig, axes = plt.subplots(2, 1, sharex=True)\n",
    "traj = sys.sinusoidal_forcing_response(0.0, 0.0, 20.0)\n",
    "pos_line, = axes[0].plot(traj.index, traj.position)\n",
    "for_line, = axes[1].plot(traj.index, traj.forcing_function)\n",
    "axes[1].set_xlabel('Time [s]')\n",
    "axes[0].set_ylabel('Position [m]')\n",
    "axes[0].set_ylim((-0.05, 0.05))\n",
    "axes[1].set_ylabel('Forcing [N]')\n",
    "axes[1].set_ylim((-50, 50))\n",
    "\n",
    "\n",
    "def adjust_forcing(amplitude=0.0, frequency=0.0):\n",
    "    traj = sys.sinusoidal_forcing_response(amplitude, frequency, 20.0)\n",
    "    pos_line.set_data(traj.index, traj.position)\n",
    "    for_line.set_data(traj.index, traj.forcing_function)\n",
    "    \n",
    "interact(adjust_forcing, amplitude=(0.0, 50.0, 0.2), frequency=(0.0, 10, 0.1));"
   ]
  },
  {
   "cell_type": "code",
   "execution_count": null,
   "metadata": {},
   "outputs": [],
   "source": [
    "# write answer here"
   ]
  },
  {
   "cell_type": "markdown",
   "metadata": {},
   "source": [
    "# Transient and Steady State Behavior\n",
    "\n",
    "When you increase the simulation time long enough in all of the above forced responses, you should see that there is more unpredictable behavior at the beginning of the response and that in the later portion of the response the system gets into a very predictable sinusoidal motion. What is the frequency of the motion after about 10 seconds of simulation? Do you recognize this frequency?"
   ]
  },
  {
   "cell_type": "code",
   "execution_count": null,
   "metadata": {},
   "outputs": [],
   "source": [
    "# write answer here"
   ]
  },
  {
   "cell_type": "markdown",
   "metadata": {},
   "source": [
    "The underdamped regime of motion for this system occurs with a damping coefficient value as about $60.33 < c < 603.32$ kg/s."
   ]
  },
  {
   "cell_type": "markdown",
   "metadata": {
    "solution2": "hidden",
    "solution2_first": true
   },
   "source": [
    "### Exercise\n",
    "\n",
    "Using the steady state behavior of the position trajectory ($10 s < t < 20$s or so, use `traj[m:]` to get just the last `m` seconds). With the damping ratio set at 100 kg/s make a plot of the position amplitude as a function of forcing frequences $1.0 < \\omega < 10.0$ rad/s. Use a forcing amplitude of $F_o=10$ N. Plot a vertical line using `ax.axvline()`. What do you observe?\n",
    "\n",
    "```python\n",
    "Fo = 10.0  # N\n",
    "\n",
    "frequencies = np.linspace(1.0, 10.0, num=100)\n",
    "   \n",
    "sys.constants['damping'] = 100  # kg/s\n",
    "    \n",
    "amplitudes = []\n",
    "    \n",
    "for omega in frequencies:\n",
    "    traj = sys.sinusoidal_forcing_response(Fo, omega, 20.0)\n",
    "    amplitude = # write the code to calculate the amplitude from the trajectories here\n",
    "    amplitudes.append(amplitude)\n",
    "\n",
    "fig, ax = plt.subplots(1, 1, sharex=True)\n",
    "ax.set_xlabel('$\\omega$ [rad/s]')\n",
    "ax.set_ylabel('Steady state amplitude [m]') \n",
    "\n",
    "# write the plot commands for the vertical line here\n",
    "```"
   ]
  },
  {
   "cell_type": "code",
   "execution_count": null,
   "metadata": {
    "jupyter": {
     "source_hidden": true
    },
    "solution2": "hidden"
   },
   "outputs": [],
   "source": [
    "Fo = 10.0  # N\n",
    "\n",
    "frequencies = np.linspace(1.0, 10.0, num=100)\n",
    "   \n",
    "sys.constants['damping'] = 100  # kg/s\n",
    "    \n",
    "amplitudes = []\n",
    "    \n",
    "for omega in frequencies:\n",
    "    traj = sys.sinusoidal_forcing_response(Fo, omega, 20.0)\n",
    "    amplitude = np.max(traj['position'][10.0:])\n",
    "    amplitudes.append(amplitude)\n",
    "\n",
    "amplitudes = np.array(amplitudes)\n",
    "\n",
    "fig, ax = plt.subplots(1, 1, sharex=True)\n",
    "ax.set_xlabel('$\\omega$ [rad/s]')\n",
    "ax.set_ylabel('Steady state amplitude [m]') \n",
    "\n",
    "ax.axvline(np.sqrt(sys.constants['stiffness'] / sys.constants['mass']), color='black')\n",
    "ax.plot(frequencies, amplitudes);"
   ]
  },
  {
   "cell_type": "code",
   "execution_count": null,
   "metadata": {},
   "outputs": [],
   "source": [
    "# write you answer here"
   ]
  },
  {
   "cell_type": "markdown",
   "metadata": {
    "solution2": "hidden",
    "solution2_first": true
   },
   "source": [
    "Now let's plot a new line on the plot for different values of damping coefficients, instead of a single value. You can use a *nested loop* to cycle through frequencies for each damping ratio. Use 5 equally spaced values of $60 < c < 600$ and the same parameters as above. Add a legend to show which color line corresponds to what damping coefficient."
   ]
  },
  {
   "cell_type": "code",
   "execution_count": null,
   "metadata": {
    "solution2": "hidden"
   },
   "outputs": [],
   "source": [
    "Fo = 10.0  # N\n",
    "\n",
    "dampings = np.linspace(60.0, 600.0, num=5)\n",
    "frequencies = np.linspace(1.0, 10.0, num=100)\n",
    "results = []\n",
    "\n",
    "for c in dampings:\n",
    "    \n",
    "    sys.constants['damping'] = c\n",
    "    \n",
    "    amplitudes = []\n",
    "    \n",
    "    for omega in frequencies:\n",
    "        traj = sys.sinusoidal_forcing_response(Fo, omega, 20.0)\n",
    "        amplitude = np.max(traj['position'][10.0:])\n",
    "        amplitudes.append(amplitude)\n",
    "    \n",
    "    amplitudes = np.array(amplitudes)\n",
    "    \n",
    "    results.append(amplitudes)\n",
    "\n",
    "fig, ax = plt.subplots(1, 1, sharex=True)\n",
    "ax.set_xlabel('$\\omega$ [rad/s]')\n",
    "ax.set_ylabel('Steady state amplitude [m]') \n",
    "\n",
    "ax.axvline(np.sqrt(sys.constants['stiffness'] / sys.constants['mass']), color='black')\n",
    "\n",
    "for amps in results:\n",
    "    ax.plot(frequencies, amps)\n",
    "\n",
    "ax.legend(dampings);"
   ]
  },
  {
   "cell_type": "code",
   "execution_count": null,
   "metadata": {},
   "outputs": [],
   "source": [
    "# write your answer here"
   ]
  },
  {
   "cell_type": "markdown",
   "metadata": {},
   "source": [
    "## The frequency response\n",
    "\n",
    "The plot you created above is called a *frequency response plot* it shows how the magnitude of the steady state response to a sinusoidal forcing. The X axis is the forcing frequency and the Y axis is the amplitude of the position oscillation. The frequency response plot also typically includes a plot of the position's steady state phase shift angle as a function of the forcing frequency too.\n",
    "\n",
    "### Exercise\n",
    "\n",
    "Read the help for `frequency_plot?` and create a frequency response plot for $c=60$ and $F0=10$."
   ]
  },
  {
   "cell_type": "code",
   "execution_count": null,
   "metadata": {
    "jupyter": {
     "source_hidden": true
    }
   },
   "outputs": [],
   "source": [
    "sys.constants['damping'] = 60.0\n",
    "Fo = 10.0\n",
    "sys.frequency_response_plot(Fo);"
   ]
  },
  {
   "cell_type": "code",
   "execution_count": null,
   "metadata": {},
   "outputs": [],
   "source": [
    "# write answer here"
   ]
  },
  {
   "cell_type": "markdown",
   "metadata": {},
   "source": [
    "### Exercise\n",
    "\n",
    "Create an interactive plot using the `sys.frequency_response()` function with a slider for the damping coefficient that goes from $60 < c < 600$ with an appropriate interval spacing. Explore how damping affects the "
   ]
  },
  {
   "cell_type": "code",
   "execution_count": null,
   "metadata": {},
   "outputs": [],
   "source": [
    "sys.constants['damping'] = 60\n",
    "axes = sys.frequency_response_plot(10.0)\n",
    "amp_line = axes[0].lines[1]\n",
    "phase_line = axes[1].lines[1]\n",
    "frequencies = amp_line.get_xdata()\n",
    "\n",
    "def update(zeta):\n",
    "    wn = np.sqrt(sys.constants['stiffness']/sys.constants['mass'])\n",
    "    c = zeta*2*sys.constants['mass']*wn\n",
    "    sys.constants['damping'] = c\n",
    "    amp, phase = sys.frequency_response(frequencies, 10.0)\n",
    "    amp_line.set_ydata(amp)\n",
    "    phase_line.set_ydata(np.rad2deg(phase))\n",
    "    \n",
    "interact(update, zeta=(0, 1, 0.01))"
   ]
  }
 ],
 "metadata": {
  "kernelspec": {
   "display_name": "Python 3",
   "language": "python",
   "name": "python3"
  },
  "language_info": {
   "codemirror_mode": {
    "name": "ipython",
    "version": 3
   },
   "file_extension": ".py",
   "mimetype": "text/x-python",
   "name": "python",
   "nbconvert_exporter": "python",
   "pygments_lexer": "ipython3",
   "version": "3.6.7"
  }
 },
 "nbformat": 4,
 "nbformat_minor": 4
}
